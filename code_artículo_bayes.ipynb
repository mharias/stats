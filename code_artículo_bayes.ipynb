{
 "cells": [
  {
   "cell_type": "code",
   "execution_count": 3,
   "metadata": {},
   "outputs": [
    {
     "name": "stdout",
     "output_type": "stream",
     "text": [
      "P(B|D) = 0.09091\n"
     ]
    }
   ],
   "source": [
    "from scipy.special import beta\n",
    "ratio_betas = beta(7, 6) / beta(4, 6)\n",
    "\n",
    "print(\"P(B|D) = {0:.5f}\".format(ratio_betas))\n"
   ]
  },
  {
   "cell_type": "code",
   "execution_count": 4,
   "metadata": {},
   "outputs": [],
   "source": [
    "import numpy as np\n",
    "from scipy.stats import binom"
   ]
  },
  {
   "cell_type": "code",
   "execution_count": 10,
   "metadata": {},
   "outputs": [],
   "source": [
    "n_partidas = 50000\n",
    "n_rondas_partida = 11\n",
    "gana_Ana_ahora = 5\n",
    "matriz_partidas = np.ndarray([n_partidas,n_rondas_partida])"
   ]
  },
  {
   "cell_type": "code",
   "execution_count": 11,
   "metadata": {
    "scrolled": false
   },
   "outputs": [],
   "source": [
    "i=0\n",
    "while i < n_partidas:\n",
    "    p = np.random.random()\n",
    "    r = binom.rvs(1,p,size=n_rondas_partida)\n",
    "    if r[:8].sum() == 5:\n",
    "        #print(i)\n",
    "        matriz_partidas[i,:] = r\n",
    "        i+=1\n",
    "test = lambda x: x.sum() == gana_Ana_ahora\n",
    "bruno_gana = np.apply_along_axis(test,1,matriz_partidas).sum()"
   ]
  },
  {
   "cell_type": "code",
   "execution_count": 12,
   "metadata": {},
   "outputs": [
    {
     "name": "stdout",
     "output_type": "stream",
     "text": [
      "P(B|D) = 0.0903\n"
     ]
    }
   ],
   "source": [
    "print(\"P(B|D) = {0:.4f}\".format(bruno_gana/n_partidas))"
   ]
  },
  {
   "cell_type": "code",
   "execution_count": null,
   "metadata": {},
   "outputs": [],
   "source": []
  }
 ],
 "metadata": {
  "kernelspec": {
   "display_name": "Python 3",
   "language": "python",
   "name": "python3"
  },
  "language_info": {
   "codemirror_mode": {
    "name": "ipython",
    "version": 3
   },
   "file_extension": ".py",
   "mimetype": "text/x-python",
   "name": "python",
   "nbconvert_exporter": "python",
   "pygments_lexer": "ipython3",
   "version": "3.7.7"
  }
 },
 "nbformat": 4,
 "nbformat_minor": 4
}
