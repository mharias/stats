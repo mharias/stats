{
 "cells": [
  {
   "cell_type": "markdown",
   "metadata": {},
   "source": [
    "# Los números que caracterizan un sondeo de voto antes de unas Elecciones"
   ]
  },
  {
   "cell_type": "markdown",
   "metadata": {},
   "source": [
    "Los sondeos que vemos en prensa los días antes de las elecciones son utilizados por unos y otros para influir en la intención de voto de los votantes. ¿Sabemos exactamente que significa que un determinado partido saque un 60% de votos?, sabemos a que aplica los intervalos de confianza o los errores de muestreo?\n",
    "Veamos la teoría estadística que hay detras de ellos. \n",
    "\n",
    "Vamos a simplificar el problema asumiendo que queremos calcular el porcentaje de personas que van a votar a un determinado candidato. Un \"p\" por ciento de la población votará a ese candidato, y es ese número el que queremos estimar.\n",
    "\n",
    "Para ello elegiremos un subconjunto $n$ de la población al que preguntaremos (y asumimos que dicen la verdad, ¡que es mucho asumir!).\n",
    "\n",
    "En notación matemática significa que tenemos un conjunto de variables aleatorias $X_1, X_2, X_3...X_n$ en el que:\n",
    "$$X_i=\\left\\{\n",
    "                \\begin{array}{ll}\n",
    "                  1 \\; \\text{si la persona } i \\text{ vota  al  candidato}\\\\\n",
    "                  0 \\; \\text{si la persona }i\\text{ no vota al candidato}\n",
    "                \\end{array}\n",
    "              \\right.\n",
    "              $$\n",
    "\n",
    "y definimos $S_n=X_1+X_2+\\cdots+X_n$. Sabemos que si el conjunto se elige con aletoriedad y n es pequeño respecto a N entonces $S_n$ tiene una distribución binomial con parámetros $n$ y $p$.\n",
    "\n",
    "Sabemos también por la Teoría del Límite Central que el valor normalizado de $S_n$ equivalente $S_n^{std}=\\dfrac{S_n-np}{\\sqrt{npq}}$, ya que la media de una binomial es $np$ y la varianza $npq$.\n",
    "\n",
    "La tarea que tenemos es hacer la mejor estimación de $p$, que a priori es $\\bar{p}=S_n/n$. Podemos desarrollar esa expresión tal que : $$\\bar{p}=S_n/n=S_n/n-p+p=\\dfrac{S_n-np}{n}+p=\\dfrac{S_n-np}{\\sqrt{n}\\sqrt{n}}+p=\\dfrac{S_n-np}{\\sqrt{n}\\sqrt{n}\\sqrt{pq}}\\sqrt{pq}+p=\\dfrac{S_n-np}{\\sqrt{npq}}\\sqrt{\\dfrac{pq}{n}}+p=S_n^{std}\\sqrt{\\dfrac{pq}{n}}+p$$, es decir: $$\\bar{p}$ es una función lineal de $S_n^{*}$$, lo que significa que al tener $S_n^*$ una distribución normal entonces $\\bar p$ también la tendrá. Y con unos parámetros tal que:\n",
    "$$E[\\bar{p}]=E\\left[S_n^{*}\\sqrt{\\dfrac{pq}{n}}+p\\right]=p$$ ya que $E\\left[S_n^*\\right]=0$ y $$Var\\left[S_n^{*}\\sqrt{\\dfrac{pq}{n}}+p\\right]=\\sqrt{\\dfrac{pq}{n}}$$ ya que la $Var\\left[p\\right]=0$ y la $Var\\left[S_n^*\\right]=1$.\n",
    "\n",
    "Y a partir de aquí aplicamos lo que ya conocemos: la probabilidad agregada entre $\\pm2\\text{ varianzas}=95.4\\%$, efectivamente:\n",
    "$$P\\left(\\bar{p}-2\\sqrt{\\dfrac{\\bar{p}\\bar{q}}{n}}<p<\\bar{p}+2\\sqrt{\\dfrac{\\bar{p}\\bar{q}}{n}}\\right)\\approx .954$$\n",
    "\n",
    "Y si queremos que ese rango sea menor que un $6\\%$, entonces obligaremos a que $2\\sqrt{\\dfrac{\\bar{p}\\bar{q}}{n}}\\leq .03$ y como en todo caso $\\bar{p}\\bar{q}\\leq 1/4$, entonces nos queda que $\\dfrac{1}{\\sqrt{n}}\\leq.03$ que equivale a $n\\geq1111$.\n"
   ]
  },
  {
   "cell_type": "markdown",
   "metadata": {},
   "source": []
  },
  {
   "cell_type": "markdown",
   "metadata": {},
   "source": [
    "Como se realiza un sondeo: se eligen (al azar!!) n personas de un conjunto total N, y se les pregunta si vann"
   ]
  },
  {
   "cell_type": "code",
   "execution_count": 185,
   "metadata": {},
   "outputs": [],
   "source": [
    "import pandas as pd\n",
    "import numpy as np\n",
    "from scipy.special import comb\n",
    "from scipy.stats import norm\n",
    "import matplotlib.pyplot as plt\n",
    "from matplotlib.ticker import PercentFormatter\n",
    "import math"
   ]
  },
  {
   "cell_type": "code",
   "execution_count": 28,
   "metadata": {},
   "outputs": [],
   "source": [
    "def s_n(n,p):\n",
    "    valor=np.random.binomial(n,p,1)\n",
    "    return valor,(valor-n*p)/((n*p*(1-p))**(.5))"
   ]
  },
  {
   "cell_type": "code",
   "execution_count": 44,
   "metadata": {},
   "outputs": [],
   "source": [
    "def x_j(j,n,p):\n",
    "    return (j-n*p)/(n*p*(1-p))**(1/2)"
   ]
  },
  {
   "cell_type": "code",
   "execution_count": 268,
   "metadata": {},
   "outputs": [],
   "source": [
    "def binomial(n,p,j):\n",
    "    return comb(n,j,exact=False)*(p**j)*((1-p)**(n-j))"
   ]
  },
  {
   "cell_type": "code",
   "execution_count": 297,
   "metadata": {},
   "outputs": [],
   "source": [
    "def pdf_normal(x, mu, sigma):\n",
    "    return norm.pdf(x)\n",
    "def cdf_normal(x):\n",
    "    return norm.cdf(x)"
   ]
  },
  {
   "cell_type": "code",
   "execution_count": 303,
   "metadata": {},
   "outputs": [
    {
     "data": {
      "text/plain": [
       "0.9544997361036416"
      ]
     },
     "execution_count": 303,
     "metadata": {},
     "output_type": "execute_result"
    }
   ],
   "source": [
    "cdf_normal(2)-cdf_normal(-2)"
   ]
  },
  {
   "cell_type": "code",
   "execution_count": 299,
   "metadata": {},
   "outputs": [
    {
     "data": {
      "text/plain": [
       "0.07965567455405798"
      ]
     },
     "execution_count": 299,
     "metadata": {},
     "output_type": "execute_result"
    }
   ],
   "source": [
    "cdf_normal(0+2*np.sqrt(p*q/n))-cdf_normal(0-2*np.sqrt(p*q/n))"
   ]
  },
  {
   "cell_type": "code",
   "execution_count": 295,
   "metadata": {},
   "outputs": [],
   "source": [
    "n=100\n",
    "p=.5\n",
    "q=1-p"
   ]
  },
  {
   "cell_type": "code",
   "execution_count": 280,
   "metadata": {},
   "outputs": [],
   "source": [
    "x_range = np.linspace(0, n, n+1)\n",
    "x_norm  = (x_range-n*p)/(n*p*(1-p))**(1/2)\n",
    "y_binomial = binomial(n,p,x_range)*np.sqrt(n*p*(1-p))\n",
    "y_normal = normal(x_norm,0,1)"
   ]
  },
  {
   "cell_type": "code",
   "execution_count": 283,
   "metadata": {},
   "outputs": [
    {
     "data": {
      "text/plain": [
       "array([7.69459863e-23, 5.57300002e-22, 3.87811193e-21, 2.59286470e-20,\n",
       "       1.66558803e-19, 1.02797736e-18, 6.09575813e-18, 3.47296275e-17,\n",
       "       1.90108154e-16, 9.99837875e-16, 5.05227108e-15, 2.45285529e-14,\n",
       "       1.14415649e-13, 5.12775364e-13, 2.20798996e-12, 9.13472041e-12,\n",
       "       3.63096150e-11, 1.38667999e-10, 5.08814028e-10, 1.79378391e-09,\n",
       "       6.07588285e-09, 1.97731964e-08, 6.18262050e-08, 1.85736184e-07,\n",
       "       5.36103534e-07, 1.48671951e-06, 3.96129909e-06, 1.01408521e-05,\n",
       "       2.49424713e-05, 5.89430678e-05, 1.33830226e-04, 2.91946926e-04,\n",
       "       6.11901930e-04, 1.23221917e-03, 2.38408820e-03, 4.43184841e-03,\n",
       "       7.91545158e-03, 1.35829692e-02, 2.23945303e-02, 3.54745928e-02,\n",
       "       5.39909665e-02, 7.89501583e-02, 1.10920835e-01, 1.49727466e-01,\n",
       "       1.94186055e-01, 2.41970725e-01, 2.89691553e-01, 3.33224603e-01,\n",
       "       3.68270140e-01, 3.91042694e-01, 3.98942280e-01, 3.91042694e-01,\n",
       "       3.68270140e-01, 3.33224603e-01, 2.89691553e-01, 2.41970725e-01,\n",
       "       1.94186055e-01, 1.49727466e-01, 1.10920835e-01, 7.89501583e-02,\n",
       "       5.39909665e-02, 3.54745928e-02, 2.23945303e-02, 1.35829692e-02,\n",
       "       7.91545158e-03, 4.43184841e-03, 2.38408820e-03, 1.23221917e-03,\n",
       "       6.11901930e-04, 2.91946926e-04, 1.33830226e-04, 5.89430678e-05,\n",
       "       2.49424713e-05, 1.01408521e-05, 3.96129909e-06, 1.48671951e-06,\n",
       "       5.36103534e-07, 1.85736184e-07, 6.18262050e-08, 1.97731964e-08,\n",
       "       6.07588285e-09, 1.79378391e-09, 5.08814028e-10, 1.38667999e-10,\n",
       "       3.63096150e-11, 9.13472041e-12, 2.20798996e-12, 5.12775364e-13,\n",
       "       1.14415649e-13, 2.45285529e-14, 5.05227108e-15, 9.99837875e-16,\n",
       "       1.90108154e-16, 3.47296275e-17, 6.09575813e-18, 1.02797736e-18,\n",
       "       1.66558803e-19, 2.59286470e-20, 3.87811193e-21, 5.57300002e-22,\n",
       "       7.69459863e-23])"
      ]
     },
     "execution_count": 283,
     "metadata": {},
     "output_type": "execute_result"
    }
   ],
   "source": []
  },
  {
   "cell_type": "code",
   "execution_count": 284,
   "metadata": {},
   "outputs": [
    {
     "name": "stderr",
     "output_type": "stream",
     "text": [
      "/Users/waly/anaconda3/envs/ML/lib/python3.6/site-packages/ipykernel_launcher.py:8: UserWarning: In Matplotlib 3.3 individual lines on a stem plot will be added as a LineCollection instead of individual lines. This significantly improves the performance of a stem plot. To remove this warning and switch to the new behaviour, set the \"use_line_collection\" keyword argument to True.\n",
      "  \n"
     ]
    },
    {
     "data": {
      "text/plain": [
       "[<matplotlib.lines.Line2D at 0x81ab39630>]"
      ]
     },
     "execution_count": 284,
     "metadata": {},
     "output_type": "execute_result"
    },
    {
     "data": {
      "image/png": "[encoded data removed]",
      "text/plain": [
       "<Figure size 3600x1440 with 1 Axes>"
      ]
     },
     "metadata": {
      "needs_background": "light"
     },
     "output_type": "display_data"
    }
   ],
   "source": [
    "f = plt.figure(figsize=(50,20))\n",
    "f.subplots_adjust(hspace=1, wspace=1)\n",
    "ax1 = f.add_subplot(331)\n",
    "#ax1.set_xlabel('{:,} términos en la suma'.format(lista_terms_sum[i]))\n",
    "#    lista_axes[i].yaxis.set_major_formatter(PercentFormatter(1)\n",
    "ax1.set_xlim(-5,5)\n",
    "#    lista_axes[i].set_ylim(0.0,0.25)    \n",
    "ax1.stem(x_norm,y_binomial,'-.')\n",
    "#ax1.plot(x_norm,y_linea)\n",
    "ax1.plot(x_norm, y_normal,linewidth=2, color='r')\n"
   ]
  },
  {
   "cell_type": "code",
   "execution_count": 329,
   "metadata": {},
   "outputs": [],
   "source": [
    "poblacion=np.random.binomial(1,.35,1000000)"
   ]
  },
  {
   "cell_type": "code",
   "execution_count": 312,
   "metadata": {},
   "outputs": [
    {
     "data": {
      "text/plain": [
       "350066"
      ]
     },
     "execution_count": 312,
     "metadata": {},
     "output_type": "execute_result"
    }
   ],
   "source": [
    "poblacion.sum()"
   ]
  },
  {
   "cell_type": "code",
   "execution_count": 315,
   "metadata": {},
   "outputs": [],
   "source": [
    "muestra=np.random.binomial(1,.01,1000000)"
   ]
  },
  {
   "cell_type": "code",
   "execution_count": 316,
   "metadata": {},
   "outputs": [
    {
     "data": {
      "text/plain": [
       "9987"
      ]
     },
     "execution_count": 316,
     "metadata": {},
     "output_type": "execute_result"
    }
   ],
   "source": [
    "muestra.sum()"
   ]
  },
  {
   "cell_type": "code",
   "execution_count": 318,
   "metadata": {},
   "outputs": [
    {
     "data": {
      "text/plain": [
       "3556"
      ]
     },
     "execution_count": 318,
     "metadata": {},
     "output_type": "execute_result"
    }
   ],
   "source": [
    "(poblacion*muestra).sum()"
   ]
  },
  {
   "cell_type": "code",
   "execution_count": 327,
   "metadata": {},
   "outputs": [],
   "source": [
    "poblacion=np.linspace(0,10,11)*2"
   ]
  },
  {
   "cell_type": "code",
   "execution_count": 336,
   "metadata": {},
   "outputs": [
    {
     "data": {
      "text/plain": [
       "0.3325"
      ]
     },
     "execution_count": 336,
     "metadata": {},
     "output_type": "execute_result"
    }
   ],
   "source": [
    "np.random.choice(poblacion,1200,replace=False).sum()/1200"
   ]
  },
  {
   "cell_type": "code",
   "execution_count": 322,
   "metadata": {},
   "outputs": [
    {
     "data": {
      "text/plain": [
       "array([ 0.,  1.,  2.,  3.,  4.,  5.,  6.,  7.,  8.,  9., 10.])"
      ]
     },
     "execution_count": 322,
     "metadata": {},
     "output_type": "execute_result"
    }
   ],
   "source": [
    "poblacion"
   ]
  },
  {
   "cell_type": "code",
   "execution_count": null,
   "metadata": {},
   "outputs": [],
   "source": []
  }
 ],
 "metadata": {
  "kernelspec": {
   "display_name": "Python 3",
   "language": "python",
   "name": "python3"
  },
  "language_info": {
   "codemirror_mode": {
    "name": "ipython",
    "version": 3
   },
   "file_extension": ".py",
   "mimetype": "text/x-python",
   "name": "python",
   "nbconvert_exporter": "python",
   "pygments_lexer": "ipython3",
   "version": "3.6.9"
  }
 },
 "nbformat": 4,
 "nbformat_minor": 2
}
