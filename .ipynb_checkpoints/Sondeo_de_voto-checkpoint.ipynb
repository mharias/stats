{
 "cells": [
  {
   "cell_type": "markdown",
   "metadata": {},
   "source": [
    "# Sondeos de intención de voto: ¿cuanto de seguros son?"
   ]
  },
  {
   "cell_type": "markdown",
   "metadata": {},
   "source": [
    "Los sondeos que vemos en prensa los días antes de las elecciones son utilizados por unos y otros para influir en la intención de voto de los votantes, ¿pero sabemos exactamente que significa que estimemos que un determinado partido o candidato va a conseguir un 60% de votos, sabemos interpretar los intervalos de confianza o los errores de muestreo?\n",
    "Veamos la teoría estadística que hay detras de ellos. \n",
    "\n",
    "Vamos a simplificar el problema asumiendo que queremos calcular el porcentaje de personas que van a votar a un determinado candidato. Un \"p\" por ciento de la población votará a ese candidato, y es ese número el que queremos estimar.\n",
    "\n",
    "Para ello elegiremos un subconjunto $n$ de la población al que preguntaremos (y asumimos que dicen la verdad, ¡que es mucho asumir!).\n",
    "\n",
    "En notación matemática significa que tenemos un conjunto de variables aleatorias $X_1, X_2, X_3...X_n$ en el que:\n",
    "$$X_i=\\left\\{\n",
    "                \\begin{array}{ll}\n",
    "                  1 \\; \\text{si la persona } i \\text{ vota  al  candidato}\\\\\n",
    "                  0 \\; \\text{si la persona }i\\text{ no vota al candidato}\n",
    "                \\end{array}\n",
    "              \\right.\n",
    "              $$\n",
    "\n",
    "y definimos $S_n=X_1+X_2+\\cdots+X_n$. Sabemos que si el conjunto se elige con aletoriedad y n es pequeño respecto a N entonces $S_n$ tiene una distribución binomial con parámetros $n$ y $p$ tales que $E[S_n]=np$ y $Var(S_n)=npq$ luego podemos ver que el valor normalizado y estandarizado (media 0 y varianza 1) de $S_n$ es equivalente a  $S_n^{*}=\\dfrac{S_n-\\mu}{\\sigma}=\\dfrac{S_n-np}{\\sqrt{npq}}$, y por el Teorema del Límite Central sabemos que esa distribución aproxima a una normal.\n",
    "\n",
    "Ahora nos aplicamos a la tarea principal: calcular una estimación de $p$. A priori elegimos $\\bar{p}=S_n/n$, es decir: el porcentaje del nº de personas que nos han dicho que votarán al candidato dentro de la muestra.\n",
    "\n",
    "Podemos desarrollar esa expresión tal que : $$\\bar{p}=S_n/n=S_n/n-p+p=\\dfrac{S_n-np}{n}+p=\\dfrac{S_n-np}{\\sqrt{n}\\sqrt{n}}+p=\\dfrac{S_n-np}{\\sqrt{n}\\sqrt{n}\\sqrt{pq}}\\sqrt{pq}+p=\\dfrac{S_n-np}{\\sqrt{npq}}\\sqrt{\\dfrac{pq}{n}}+p=S_n^{*}\\sqrt{\\dfrac{pq}{n}}+p$$, es decir: $\\bar{p}$ es una función lineal de $S_n^{*}$, lo que significa que al aproximar $S_n^*$ a una distribución normal entonces $\\bar p$ también la hará. Y con unos parámetros tal que:\n",
    "$$E[\\bar{p}]=E\\left[S_n^{*}\\sqrt{\\dfrac{pq}{n}}+p\\right]=p$$ ya que $E\\left[S_n^*\\right]=0$ y $$Var\\left[S_n^{*}\\sqrt{\\dfrac{pq}{n}}+p\\right]=\\dfrac{pq}{n}$$ ya que la $Var\\left[p\\right]=0$, la $Var\\left[S_n^*\\right]=1$, y la $Var\\left[aX+b\\right]=a^2Var\\left[X\\right]$\n",
    "\n",
    "Y a partir de aquí aplicamos lo que ya conocemos: la probabilidad agregada entre $\\pm2\\text{ varianzas}=95.4\\%$, efectivamente:\n",
    "$$P\\left(\\bar{p}-2\\sqrt{\\dfrac{\\bar{p}\\bar{q}}{n}}<p<\\bar{p}+2\\sqrt{\\dfrac{\\bar{p}\\bar{q}}{n}}\\right)\\approx .954$$\n",
    "\n",
    "¿Qué nos indica este porcentaje?: que en el 95.4% de las ocasiones en las que realicemos este sondeo el intervalo de confianza de $\\pm2\\sigma$ entorno al valor estimado $\\bar{p}$ incluirá el valor real del porcentaje de población que vota al candidato en cuestión.\n",
    "\n",
    "Y si queremos que el valor de ese rango sea menor que un $6\\%$ (como ejemplo), es decir: un $3\\%$ hacia arriba y un $-3\\%$ hacia abajo, entonces obligaremos a que $2\\sqrt{\\dfrac{\\bar{p}\\bar{q}}{n}}\\leq .03$ y como en todo caso $\\bar{p}\\bar{q}\\leq 1/4$ (el caso peor es $max(\\bar{p}\\bar{q}) \\rightarrow p=q=0.5$) , entonces nos queda que $\\dfrac{1}{\\sqrt{n}}\\leq.03$ que equivale a $n\\geq1111$.\n",
    "\n",
    "Es decir: si realizamos sondeos a, al menos, 1111 personas elegidas aleatoriamente nos encontraremos que la $p$ real estará dentro del intervalo $\\bar p\\pm3\\%$, siendo $\\bar {p}=S_n/n$, porcentaje del número de personas que indican que le votaran en el sondeo."
   ]
  },
  {
   "cell_type": "markdown",
   "metadata": {},
   "source": [
    "# Comprobación práctica con Python"
   ]
  },
  {
   "cell_type": "markdown",
   "metadata": {},
   "source": [
    "Partimos de una población de un millón de habitantes, a los que vamos a hacer sondeos (elegimos 5000 sondeos) eligiendo aleatoriamente subconjuntos de 1.200 personas, superior a las 1.111 que nos marca la teoría para disponer de un rango de confianza de longitud máxima del 6%. Calcularemos una estimación de $p$ en ese subcojunto, y finalmente representaremos la distribución de esas estimaciones, veamos si se cumple lo indicado por la teoría. "
   ]
  },
  {
   "cell_type": "code",
   "execution_count": 1,
   "metadata": {},
   "outputs": [],
   "source": [
    "import pandas as pd\n",
    "import numpy as np\n",
    "from scipy.special import comb\n",
    "from scipy.stats import norm\n",
    "import matplotlib.pyplot as plt\n",
    "from matplotlib.ticker import PercentFormatter\n",
    "import math"
   ]
  },
  {
   "cell_type": "code",
   "execution_count": 2,
   "metadata": {},
   "outputs": [],
   "source": [
    "poblacion=np.random.binomial(1,.35,1000000) #un millón de personas de las que un 35% aprox vota al candidato"
   ]
  },
  {
   "cell_type": "code",
   "execution_count": 3,
   "metadata": {},
   "outputs": [
    {
     "name": "stdout",
     "output_type": "stream",
     "text": [
      "Porcentaje real de voto al candidato p=35.08%\n"
     ]
    }
   ],
   "source": [
    "p_real=poblacion.sum()/1000000\n",
    "print ('Porcentaje real de voto al candidato p={:.2f}%'.format(p_real*100)) "
   ]
  },
  {
   "cell_type": "markdown",
   "metadata": {},
   "source": [
    "Definamos algunas variables que necesitamos para los cálculos:"
   ]
  },
  {
   "cell_type": "code",
   "execution_count": 4,
   "metadata": {},
   "outputs": [
    {
     "name": "stdout",
     "output_type": "stream",
     "text": [
      "Parámetros de los sondeos: media =420.94 y desviación estándar=0.0138\n"
     ]
    }
   ],
   "source": [
    "n_sondeos=5000\n",
    "n_entrevistas=1200 #nº de entrevistas en cada sondeo\n",
    "media=n_entrevistas*p_real\n",
    "sigma=np.sqrt(p_real*(1-p_real)/n_entrevistas) #desviación típica, raiz cuadrada de la Varianza\n",
    "limite=0.03 #3% de amplitud del rango\n",
    "print ('Parámetros de los sondeos: media ={:.2f} y desviación estándar={:.4f}'.format(media,sigma))"
   ]
  },
  {
   "cell_type": "raw",
   "metadata": {},
   "source": [
    "vamos a realizar el experimento 5000 veces, y vamos a guardar el resultado en un array de numpy para estudiar su distribución:\n"
   ]
  },
  {
   "cell_type": "code",
   "execution_count": 5,
   "metadata": {},
   "outputs": [],
   "source": [
    "def sondeos(poblacion_, n_):\n",
    "    #Parámetros:\n",
    "    #poblacion_ : nº total de población\n",
    "    #n_ : tamaño de la población elegida para el sondeo\n",
    "\n",
    "    return np.random.choice(poblacion_,n_,replace=False).sum()/n_"
   ]
  },
  {
   "cell_type": "code",
   "execution_count": null,
   "metadata": {},
   "outputs": [],
   "source": [
    "resumen_sondeos=np.array([sondeos(poblacion,n_entrevistas) for i in range(n_sondeos)])"
   ]
  },
  {
   "cell_type": "markdown",
   "metadata": {},
   "source": [
    "Calculamos los valores característicos de esa muestra:"
   ]
  },
  {
   "cell_type": "code",
   "execution_count": null,
   "metadata": {},
   "outputs": [],
   "source": [
    "print ('Media = {:.2f}'.format(resumen_sondeos.mean()*n_entrevistas))\n",
    "print ('Desviación típica = {:.4f}'.format(resumen_sondeos.std()))"
   ]
  },
  {
   "cell_type": "code",
   "execution_count": null,
   "metadata": {},
   "outputs": [],
   "source": [
    "print ('Frente a los {:.2f} y {:.4f} teóricos'.format(media,sigma))"
   ]
  },
  {
   "cell_type": "code",
   "execution_count": null,
   "metadata": {},
   "outputs": [],
   "source": [
    "N_bins=np.linspace(.25,.45,40)\n",
    "n_decimales=2\n",
    "f = plt.figure(figsize=(10,8))\n",
    "f.subplots_adjust(hspace=1, wspace=1)\n",
    "ax1 = f.add_subplot(111)\n",
    "ax1.set_xlim(.3,.4)\n",
    "counts, bins = np.histogram(resumen_sondeos,bins=N_bins)\n",
    "ax1.hist(bins[:-1],bins,weights=counts/counts.sum())"
   ]
  },
  {
   "cell_type": "code",
   "execution_count": null,
   "metadata": {},
   "outputs": [],
   "source": [
    "counts.sum()"
   ]
  },
  {
   "cell_type": "markdown",
   "metadata": {},
   "source": [
    "Veamos ahora en cuantos sondeos se cumple que el porcentaje real, $p$, está dentro del intervalo de confianza $\\pm2\\sigma\\%$"
   ]
  },
  {
   "cell_type": "code",
   "execution_count": null,
   "metadata": {},
   "outputs": [],
   "source": [
    "correctos=np.array([abs(p_real-i)<=limite for i in resumen_sondeos])"
   ]
  },
  {
   "cell_type": "code",
   "execution_count": null,
   "metadata": {},
   "outputs": [],
   "source": [
    "correctos.sum() >= n_sondeos*.954"
   ]
  },
  {
   "cell_type": "code",
   "execution_count": null,
   "metadata": {},
   "outputs": [],
   "source": [
    "correctos.sum()/n_sondeos"
   ]
  },
  {
   "cell_type": "markdown",
   "metadata": {},
   "source": [
    "Efectivamente, en ese porcentaje de ocasiones el intervalo de confianza del resultado, $\\bar{p}\\pm2\\sigma$ contendrá el porcentaje $p$ real de voto del candidato. Con lo que cumple la regla del 95%. Y obviamente es importante resaltar que existe un 5% de sondeos en los que el $\\mp3\\%$ no cubre el porcentaje real. Y son escenarios realizados, a priori, con la misma aletoriedad que el resto de sondeos. La mejor manera de trabajar es asegurar que no caemos en ningún sesgo,y sabemos interpretar realmente lo que significan esos números. Recomiendo, para finalizar, este buen [resumen](https://www.khanacademy.org/humanities/ap-us-government-and-politics/american-political-beliefs-and-behaviors/evaluating-public-opinion-data/a/limitations-of-public-opinion-data) con los problemas principales que nos podemos encontrar a la hora de trabajar e interpretar los sondeos."
   ]
  },
  {
   "cell_type": "markdown",
   "metadata": {},
   "source": [
    "Puede encontrar este notebook en [github](https://github.com/mharias/stats/blob/master/Sondeo_de_voto.ipynb).La parte teórica está basada en el libro: Grinstead and Snell´s Introduction to Probability"
   ]
  }
 ],
 "metadata": {
  "kernelspec": {
   "display_name": "Python 3",
   "language": "python",
   "name": "python3"
  },
  "language_info": {
   "codemirror_mode": {
    "name": "ipython",
    "version": 3
   },
   "file_extension": ".py",
   "mimetype": "text/x-python",
   "name": "python",
   "nbconvert_exporter": "python",
   "pygments_lexer": "ipython3",
   "version": "3.6.9"
  }
 },
 "nbformat": 4,
 "nbformat_minor": 2
}
