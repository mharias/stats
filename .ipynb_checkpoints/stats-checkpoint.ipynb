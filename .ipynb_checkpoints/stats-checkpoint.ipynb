{
 "cells": [
  {
   "cell_type": "code",
   "execution_count": 2,
   "metadata": {},
   "outputs": [],
   "source": [
    "import pandas as pd"
   ]
  },
  {
   "cell_type": "code",
   "execution_count": 3,
   "metadata": {},
   "outputs": [],
   "source": [
    "import numpy as np"
   ]
  },
  {
   "cell_type": "code",
   "execution_count": 4,
   "metadata": {},
   "outputs": [],
   "source": [
    "from scipy.stats import ttest_1samp"
   ]
  },
  {
   "cell_type": "code",
   "execution_count": 5,
   "metadata": {},
   "outputs": [],
   "source": [
    "import matplotlib.pyplot as plt"
   ]
  },
  {
   "cell_type": "code",
   "execution_count": null,
   "metadata": {},
   "outputs": [],
   "source": [
    "ages=np.array([32,34,29,29,22,39,38,37,38,36])"
   ]
  },
  {
   "cell_type": "code",
   "execution_count": null,
   "metadata": {},
   "outputs": [],
   "source": [
    "ages"
   ]
  },
  {
   "cell_type": "code",
   "execution_count": null,
   "metadata": {},
   "outputs": [],
   "source": [
    "np.mean(ages)"
   ]
  },
  {
   "cell_type": "code",
   "execution_count": null,
   "metadata": {},
   "outputs": [],
   "source": [
    "tset,pval=ttest_1samp(ages,33.4)"
   ]
  },
  {
   "cell_type": "code",
   "execution_count": null,
   "metadata": {},
   "outputs": [],
   "source": [
    "tset"
   ]
  },
  {
   "cell_type": "code",
   "execution_count": null,
   "metadata": {},
   "outputs": [],
   "source": [
    "pval"
   ]
  },
  {
   "cell_type": "code",
   "execution_count": null,
   "metadata": {},
   "outputs": [],
   "source": [
    "numeros=np.arange(15).reshape(15,-1)"
   ]
  },
  {
   "cell_type": "code",
   "execution_count": null,
   "metadata": {},
   "outputs": [],
   "source": [
    "numeros.shape"
   ]
  },
  {
   "cell_type": "code",
   "execution_count": null,
   "metadata": {},
   "outputs": [],
   "source": [
    "numeros"
   ]
  },
  {
   "cell_type": "code",
   "execution_count": null,
   "metadata": {},
   "outputs": [],
   "source": [
    "np.random.random([100,100])"
   ]
  },
  {
   "cell_type": "code",
   "execution_count": null,
   "metadata": {},
   "outputs": [],
   "source": [
    "np.random.multinomial(100000000,6*[1/6.],1)"
   ]
  },
  {
   "cell_type": "code",
   "execution_count": null,
   "metadata": {},
   "outputs": [],
   "source": [
    "\n",
    "    "
   ]
  },
  {
   "cell_type": "code",
   "execution_count": 82,
   "metadata": {},
   "outputs": [],
   "source": [
    "n_event=100\n",
    "n_sucesos=10000"
   ]
  },
  {
   "cell_type": "code",
   "execution_count": 83,
   "metadata": {},
   "outputs": [],
   "source": [
    "valores=np.random.binomial(n_event,0.5,n_sucesos)/n_event"
   ]
  },
  {
   "cell_type": "code",
   "execution_count": 89,
   "metadata": {},
   "outputs": [
    {
     "data": {
      "text/plain": [
       "0.500808"
      ]
     },
     "execution_count": 89,
     "metadata": {},
     "output_type": "execute_result"
    }
   ],
   "source": [
    "valores.mean()"
   ]
  },
  {
   "cell_type": "code",
   "execution_count": 90,
   "metadata": {},
   "outputs": [
    {
     "data": {
      "text/plain": [
       "0.05027073836736437"
      ]
     },
     "execution_count": 90,
     "metadata": {},
     "output_type": "execute_result"
    }
   ],
   "source": [
    "valores.std()"
   ]
  },
  {
   "cell_type": "code",
   "execution_count": 91,
   "metadata": {},
   "outputs": [
    {
     "data": {
      "text/plain": [
       "array([0.5 , 0.5 , 0.58, ..., 0.48, 0.54, 0.55])"
      ]
     },
     "execution_count": 91,
     "metadata": {},
     "output_type": "execute_result"
    }
   ],
   "source": [
    "valores"
   ]
  },
  {
   "cell_type": "code",
   "execution_count": 210,
   "metadata": {},
   "outputs": [
    {
     "data": {
      "text/plain": [
       "(array([ 4.91360656,  3.2757377 ,  0.        ,  3.2757377 ,  6.55147541,\n",
       "         4.91360656,  9.82721311, 16.37868852,  4.91360656, 16.37868852,\n",
       "        21.29229508, 19.65442623, 24.56803279, 39.30885246, 50.77393443,\n",
       "        45.86032787, 36.03311475, 21.29229508, 85.16918033, 67.15262295,\n",
       "        94.99639344, 67.15262295, 78.61770492, 68.7904918 , 88.44491803,\n",
       "        85.16918033, 78.61770492, 65.5147541 , 60.60114754, 58.96327869,\n",
       "        83.53131148, 40.94672131, 39.30885246, 40.94672131, 34.3952459 ,\n",
       "        27.84377049, 36.03311475, 18.01655738, 21.29229508, 19.65442623,\n",
       "        11.46508197,  4.91360656,  9.82721311,  6.55147541,  6.55147541,\n",
       "         1.63786885,  1.63786885,  0.        ,  3.2757377 ,  1.63786885]),\n",
       " array([0.4853368 , 0.48594735, 0.4865579 , 0.48716845, 0.487779  ,\n",
       "        0.48838955, 0.4890001 , 0.48961065, 0.4902212 , 0.49083175,\n",
       "        0.4914423 , 0.49205285, 0.4926634 , 0.49327395, 0.4938845 ,\n",
       "        0.49449505, 0.4951056 , 0.49571614, 0.49632669, 0.49693724,\n",
       "        0.49754779, 0.49815834, 0.49876889, 0.49937944, 0.49998999,\n",
       "        0.50060054, 0.50121109, 0.50182164, 0.50243219, 0.50304274,\n",
       "        0.50365329, 0.50426384, 0.50487439, 0.50548494, 0.50609549,\n",
       "        0.50670604, 0.50731658, 0.50792713, 0.50853768, 0.50914823,\n",
       "        0.50975878, 0.51036933, 0.51097988, 0.51159043, 0.51220098,\n",
       "        0.51281153, 0.51342208, 0.51403263, 0.51464318, 0.51525373,\n",
       "        0.51586428]),\n",
       " <a list of 50 Patch objects>)"
      ]
     },
     "execution_count": 210,
     "metadata": {},
     "output_type": "execute_result"
    },
    {
     "data": {
      "image/png": "[encoded data removed]",
      "text/plain": [
       "<Figure size 432x288 with 1 Axes>"
      ]
     },
     "metadata": {
      "needs_background": "light"
     },
     "output_type": "display_data"
    }
   ],
   "source": [
    "plt.hist(valores,bins=50,density=2)"
   ]
  },
  {
   "cell_type": "code",
   "execution_count": 201,
   "metadata": {},
   "outputs": [],
   "source": [
    "n_tiradas_max=10000\n",
    "n_sucesos=1000\n",
    "media=[]\n",
    "step=10\n",
    "varianza=[]\n",
    "varianza_0=1/4\n",
    "var_teorica=[]\n",
    "for n in range(1,n_tiradas_max,10):\n",
    "    valores=np.random.binomial(n,0.5,n_sucesos)/n\n",
    "    media.append(valores.mean())\n",
    "    var_teorica.append((1/4)/n)\n",
    "    varianza.append(valores.std()**2)\n"
   ]
  },
  {
   "cell_type": "code",
   "execution_count": 203,
   "metadata": {},
   "outputs": [
    {
     "data": {
      "text/plain": [
       "[<matplotlib.lines.Line2D at 0x1a2add8400>]"
      ]
     },
     "execution_count": 203,
     "metadata": {},
     "output_type": "execute_result"
    },
    {
     "data": {
      "image/png": "[encoded data removed]",
      "text/plain": [
       "<Figure size 432x288 with 1 Axes>"
      ]
     },
     "metadata": {
      "needs_background": "light"
     },
     "output_type": "display_data"
    }
   ],
   "source": [
    "plt.plot(varianza)"
   ]
  },
  {
   "cell_type": "code",
   "execution_count": 204,
   "metadata": {},
   "outputs": [
    {
     "data": {
      "text/plain": [
       "[<matplotlib.lines.Line2D at 0x1a2af0e668>]"
      ]
     },
     "execution_count": 204,
     "metadata": {},
     "output_type": "execute_result"
    },
    {
     "data": {
      "image/png": "[encoded data removed]",
      "text/plain": [
       "<Figure size 432x288 with 1 Axes>"
      ]
     },
     "metadata": {
      "needs_background": "light"
     },
     "output_type": "display_data"
    }
   ],
   "source": [
    "plt.plot(var_teorica)"
   ]
  },
  {
   "cell_type": "code",
   "execution_count": 205,
   "metadata": {},
   "outputs": [
    {
     "data": {
      "text/plain": [
       "[<matplotlib.lines.Line2D at 0x1a2a0629b0>]"
      ]
     },
     "execution_count": 205,
     "metadata": {},
     "output_type": "execute_result"
    },
    {
     "data": {
      "image/png": "[encoded data removed]",
      "text/plain": [
       "<Figure size 432x288 with 1 Axes>"
      ]
     },
     "metadata": {
      "needs_background": "light"
     },
     "output_type": "display_data"
    }
   ],
   "source": [
    "plt.plot(media)"
   ]
  },
  {
   "cell_type": "code",
   "execution_count": 159,
   "metadata": {},
   "outputs": [
    {
     "data": {
      "text/plain": [
       "1000.0"
      ]
     },
     "execution_count": 159,
     "metadata": {},
     "output_type": "execute_result"
    },
    {
     "data": {
      "image/png": "[encoded data removed]",
      "text/plain": [
       "<Figure size 432x288 with 1 Axes>"
      ]
     },
     "metadata": {
      "needs_background": "light"
     },
     "output_type": "display_data"
    }
   ],
   "source": [
    "plt.hist(valores,bins=10,density=0)[0].sum()"
   ]
  },
  {
   "cell_type": "code",
   "execution_count": 194,
   "metadata": {},
   "outputs": [
    {
     "data": {
      "text/plain": [
       "([0.24983100000000005,\n",
       "  0.0026151513577100287,\n",
       "  0.0011711349719066358,\n",
       "  0.000773069072085297,\n",
       "  0.0005978389437876629,\n",
       "  0.00047220767646344037,\n",
       "  0.00043757572930307447,\n",
       "  0.0003549177230001567,\n",
       "  0.0003082367000674874,\n",
       "  0.00029839150727826156,\n",
       "  0.000269383961692653,\n",
       "  0.00022381394174728452,\n",
       "  0.0002164684959314366,\n",
       "  0.0001937926563909628,\n",
       "  0.00017729966715932996,\n",
       "  0.00017424510685969512,\n",
       "  0.00015997190973318127,\n",
       "  0.0001540760855477689,\n",
       "  0.00014070113771700007,\n",
       "  0.00013195411147431748,\n",
       "  0.00011540913301470204,\n",
       "  0.00011561258741955795,\n",
       "  0.00011966540011861115,\n",
       "  0.00010585299175518609,\n",
       "  9.439685775796942e-05,\n",
       "  9.643457067392953e-05,\n",
       "  9.537067102662582e-05,\n",
       "  9.092572156074765e-05,\n",
       "  8.738258088832202e-05,\n",
       "  8.760523258570398e-05,\n",
       "  8.252753913751506e-05,\n",
       "  7.986333469943069e-05,\n",
       "  8.210274329493844e-05,\n",
       "  7.061878093912034e-05,\n",
       "  7.491351013992547e-05,\n",
       "  7.264489543567795e-05,\n",
       "  6.878452605153572e-05,\n",
       "  7.079981844730981e-05,\n",
       "  6.34416578226378e-05,\n",
       "  6.767149333862362e-05,\n",
       "  6.551515732663936e-05,\n",
       "  6.560422580274788e-05,\n",
       "  5.990042265018798e-05,\n",
       "  5.5177756198968824e-05,\n",
       "  4.9314584573407505e-05,\n",
       "  5.8984913619383316e-05,\n",
       "  5.442561937032957e-05,\n",
       "  5.1974177897400906e-05,\n",
       "  5.234238128460446e-05,\n",
       "  5.505334269838457e-05,\n",
       "  4.571619965149139e-05,\n",
       "  5.030365061361362e-05,\n",
       "  4.873367219214237e-05,\n",
       "  4.684947396676674e-05,\n",
       "  4.696250486916696e-05,\n",
       "  4.530868017221242e-05,\n",
       "  4.5256856312259126e-05,\n",
       "  4.532942023022331e-05,\n",
       "  4.302741090981079e-05,\n",
       "  4.2204867691938155e-05,\n",
       "  4.1144225781844214e-05,\n",
       "  3.9124933826454816e-05,\n",
       "  4.041154933342133e-05,\n",
       "  3.921668081645331e-05,\n",
       "  3.857406927097809e-05,\n",
       "  4.063894182526223e-05,\n",
       "  4.056692550542707e-05,\n",
       "  3.828515330052619e-05,\n",
       "  3.8192957906131474e-05,\n",
       "  3.8596567103075194e-05,\n",
       "  3.599974609295819e-05,\n",
       "  3.241488980658315e-05,\n",
       "  3.379394314091102e-05,\n",
       "  3.40049954787205e-05,\n",
       "  3.146946668049054e-05,\n",
       "  3.525102441569316e-05,\n",
       "  3.223247593721051e-05,\n",
       "  3.120702507348359e-05,\n",
       "  3.186644908822772e-05,\n",
       "  3.4294282327270416e-05,\n",
       "  3.077942809954656e-05,\n",
       "  3.186477265383689e-05,\n",
       "  3.074051678739097e-05,\n",
       "  2.8964443101757383e-05,\n",
       "  3.2494077820274134e-05,\n",
       "  3.080591063962926e-05,\n",
       "  2.905530848619157e-05,\n",
       "  2.881199818231773e-05,\n",
       "  2.815030943186583e-05,\n",
       "  2.6196500278986665e-05,\n",
       "  2.677566422553429e-05,\n",
       "  2.8032015025896802e-05,\n",
       "  2.5979321000877402e-05,\n",
       "  2.9290494606426497e-05,\n",
       "  2.5967872895220658e-05,\n",
       "  2.5006572067857485e-05,\n",
       "  2.5348477461851735e-05,\n",
       "  2.6666390948551478e-05,\n",
       "  2.4395435485933348e-05,\n",
       "  2.4720714306050633e-05],\n",
       " [0.25,\n",
       "  0.0024752475247524753,\n",
       "  0.0012437810945273632,\n",
       "  0.0008305647840531562,\n",
       "  0.0006234413965087282,\n",
       "  0.000499001996007984,\n",
       "  0.00041597337770382697,\n",
       "  0.0003566333808844508,\n",
       "  0.00031210986267166043,\n",
       "  0.0002774694783573807,\n",
       "  0.00024975024975024975,\n",
       "  0.00022706630336058128,\n",
       "  0.00020815986677768527,\n",
       "  0.0001921598770176787,\n",
       "  0.00017844396859386153,\n",
       "  0.00016655562958027982,\n",
       "  0.0001561524047470331,\n",
       "  0.00014697236919459142,\n",
       "  0.000138811771238201,\n",
       "  0.0001315097317201473,\n",
       "  0.0001249375312343828,\n",
       "  0.00011899095668729176,\n",
       "  0.00011358473421172194,\n",
       "  0.0001086484137331595,\n",
       "  0.00010412328196584757,\n",
       "  9.996001599360256e-05,\n",
       "  9.611687812379854e-05,\n",
       "  9.255831173639393e-05,\n",
       "  8.925383791503035e-05,\n",
       "  8.617718028266115e-05,\n",
       "  8.330556481172943e-05,\n",
       "  8.061915511125443e-05,\n",
       "  7.810059356451109e-05,\n",
       "  7.57346258709482e-05,\n",
       "  7.350779182593354e-05,\n",
       "  7.140816909454442e-05,\n",
       "  6.942515967786726e-05,\n",
       "  6.754931099702783e-05,\n",
       "  6.577216521967904e-05,\n",
       "  6.40861317610869e-05,\n",
       "  6.248437890527369e-05,\n",
       "  6.0960741282614e-05,\n",
       "  5.950964056177101e-05,\n",
       "  5.812601720530109e-05,\n",
       "  5.680527152919791e-05,\n",
       "  5.554321261941791e-05,\n",
       "  5.433601391001956e-05,\n",
       "  5.318017443097213e-05,\n",
       "  5.207248489897938e-05,\n",
       "  5.100999795960008e-05,\n",
       "  4.999000199960008e-05,\n",
       "  4.900999803960008e-05,\n",
       "  4.806767929244376e-05,\n",
       "  4.716091303527636e-05,\n",
       "  4.6287724495463804e-05,\n",
       "  4.544628249409198e-05,\n",
       "  4.463488662738796e-05,\n",
       "  4.385195579722856e-05,\n",
       "  4.309601792794346e-05,\n",
       "  4.236570072869005e-05,\n",
       "  4.1659723379436764e-05,\n",
       "  4.097688903458449e-05,\n",
       "  4.031607805192711e-05,\n",
       "  3.9676241866370415e-05,\n",
       "  3.9056397437900326e-05,\n",
       "  3.845562221196739e-05,\n",
       "  3.78730495379488e-05,\n",
       "  3.7307864497836144e-05,\n",
       "  3.675930010292604e-05,\n",
       "  3.622663382118534e-05,\n",
       "  3.5709184402228255e-05,\n",
       "  3.520630897056752e-05,\n",
       "  3.471740036106096e-05,\n",
       "  3.424188467333242e-05,\n",
       "  3.3779219024456154e-05,\n",
       "  3.332888948140248e-05,\n",
       "  3.289040915668991e-05,\n",
       "  3.2463316452408776e-05,\n",
       "  3.2047173439302654e-05,\n",
       "  3.164156435894191e-05,\n",
       "  3.124609423822022e-05,\n",
       "  3.086038760646834e-05,\n",
       "  3.0484087306426047e-05,\n",
       "  3.0116853391157692e-05,\n",
       "  2.975836209975003e-05,\n",
       "  2.940830490530526e-05,\n",
       "  2.9066387629345423e-05,\n",
       "  2.873232961728537e-05,\n",
       "  2.840586297011703e-05,\n",
       "  2.808673182788451e-05,\n",
       "  2.777469170092212e-05,\n",
       "  2.746950884518185e-05,\n",
       "  2.7170959678295838e-05,\n",
       "  2.6878830233308245e-05,\n",
       "  2.6592915647271565e-05,\n",
       "  2.631301968213872e-05,\n",
       "  2.603895427559629e-05,\n",
       "  2.5770539119678383e-05,\n",
       "  2.5507601265177022e-05,\n",
       "  2.524997475002525e-05])"
      ]
     },
     "execution_count": 194,
     "metadata": {},
     "output_type": "execute_result"
    }
   ],
   "source": [
    "varianza,var_teorica"
   ]
  },
  {
   "cell_type": "markdown",
   "metadata": {},
   "source": [
    " Lo podemos comprobar mediante la fórmula \n",
    " $E(X)=\\sum\\limits_{x\\in\\omega}x*m(x)$"
   ]
  },
  {
   "cell_type": "code",
   "execution_count": null,
   "metadata": {},
   "outputs": [],
   "source": []
  }
 ],
 "metadata": {
  "kernelspec": {
   "display_name": "Python 3",
   "language": "python",
   "name": "python3"
  }
 },
 "nbformat": 4,
 "nbformat_minor": 2
}
