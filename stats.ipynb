{
 "cells": [
  {
   "cell_type": "code",
   "execution_count": 2,
   "metadata": {},
   "outputs": [],
   "source": [
    "import pandas as pd"
   ]
  },
  {
   "cell_type": "code",
   "execution_count": 3,
   "metadata": {},
   "outputs": [],
   "source": [
    "import numpy as np"
   ]
  },
  {
   "cell_type": "code",
   "execution_count": 4,
   "metadata": {},
   "outputs": [],
   "source": [
    "from scipy.stats import ttest_1samp"
   ]
  },
  {
   "cell_type": "code",
   "execution_count": 55,
   "metadata": {},
   "outputs": [],
   "source": [
    "import matplotlib.pyplot as plt"
   ]
  },
  {
   "cell_type": "code",
   "execution_count": 19,
   "metadata": {},
   "outputs": [],
   "source": [
    "ages=np.array([32,34,29,29,22,39,38,37,38,36])"
   ]
  },
  {
   "cell_type": "code",
   "execution_count": 20,
   "metadata": {},
   "outputs": [
    {
     "data": {
      "text/plain": [
       "array([32, 34, 29, 29, 22, 39, 38, 37, 38, 36])"
      ]
     },
     "execution_count": 20,
     "metadata": {},
     "output_type": "execute_result"
    }
   ],
   "source": [
    "ages"
   ]
  },
  {
   "cell_type": "code",
   "execution_count": 23,
   "metadata": {},
   "outputs": [
    {
     "data": {
      "text/plain": [
       "33.4"
      ]
     },
     "execution_count": 23,
     "metadata": {},
     "output_type": "execute_result"
    }
   ],
   "source": [
    "np.mean(ages)"
   ]
  },
  {
   "cell_type": "code",
   "execution_count": 28,
   "metadata": {},
   "outputs": [],
   "source": [
    "tset,pval=ttest_1samp(ages,33.4)"
   ]
  },
  {
   "cell_type": "code",
   "execution_count": 29,
   "metadata": {},
   "outputs": [
    {
     "data": {
      "text/plain": [
       "0.0"
      ]
     },
     "execution_count": 29,
     "metadata": {},
     "output_type": "execute_result"
    }
   ],
   "source": [
    "tset"
   ]
  },
  {
   "cell_type": "code",
   "execution_count": 30,
   "metadata": {},
   "outputs": [
    {
     "data": {
      "text/plain": [
       "1.0"
      ]
     },
     "execution_count": 30,
     "metadata": {},
     "output_type": "execute_result"
    }
   ],
   "source": [
    "pval"
   ]
  },
  {
   "cell_type": "code",
   "execution_count": 17,
   "metadata": {},
   "outputs": [],
   "source": [
    "numeros=np.arange(15).reshape(15,-1)"
   ]
  },
  {
   "cell_type": "code",
   "execution_count": 18,
   "metadata": {},
   "outputs": [
    {
     "data": {
      "text/plain": [
       "(15, 1)"
      ]
     },
     "execution_count": 18,
     "metadata": {},
     "output_type": "execute_result"
    }
   ],
   "source": [
    "numeros.shape"
   ]
  },
  {
   "cell_type": "code",
   "execution_count": 19,
   "metadata": {},
   "outputs": [
    {
     "data": {
      "text/plain": [
       "array([[ 0],\n",
       "       [ 1],\n",
       "       [ 2],\n",
       "       [ 3],\n",
       "       [ 4],\n",
       "       [ 5],\n",
       "       [ 6],\n",
       "       [ 7],\n",
       "       [ 8],\n",
       "       [ 9],\n",
       "       [10],\n",
       "       [11],\n",
       "       [12],\n",
       "       [13],\n",
       "       [14]])"
      ]
     },
     "execution_count": 19,
     "metadata": {},
     "output_type": "execute_result"
    }
   ],
   "source": [
    "numeros"
   ]
  },
  {
   "cell_type": "code",
   "execution_count": 22,
   "metadata": {},
   "outputs": [
    {
     "data": {
      "text/plain": [
       "array([[0.07491421, 0.01518594, 0.50567753, ..., 0.52859439, 0.37652734,\n",
       "        0.91466762],\n",
       "       [0.33541798, 0.16943739, 0.11806698, ..., 0.47423883, 0.65697483,\n",
       "        0.56613895],\n",
       "       [0.66530969, 0.37926263, 0.95687984, ..., 0.8692518 , 0.63802408,\n",
       "        0.53999712],\n",
       "       ...,\n",
       "       [0.71608597, 0.42101609, 0.62003736, ..., 0.59441956, 0.77094852,\n",
       "        0.97054771],\n",
       "       [0.36415368, 0.39461886, 0.459395  , ..., 0.29860128, 0.23939389,\n",
       "        0.93758566],\n",
       "       [0.61259766, 0.96986369, 0.57856868, ..., 0.8213145 , 0.50615586,\n",
       "        0.71721254]])"
      ]
     },
     "execution_count": 22,
     "metadata": {},
     "output_type": "execute_result"
    }
   ],
   "source": [
    "np.random.random([100,100])"
   ]
  },
  {
   "cell_type": "code",
   "execution_count": 35,
   "metadata": {},
   "outputs": [
    {
     "data": {
      "text/plain": [
       "array([[16666057, 16672757, 16667005, 16660091, 16663003, 16671087]])"
      ]
     },
     "execution_count": 35,
     "metadata": {},
     "output_type": "execute_result"
    }
   ],
   "source": [
    "np.random.multinomial(100000000,6*[1/6.],1)"
   ]
  },
  {
   "cell_type": "code",
   "execution_count": 73,
   "metadata": {},
   "outputs": [],
   "source": [
    "valores=np.random.binomial(1000000,0.5,100000)/1000000"
   ]
  },
  {
   "cell_type": "code",
   "execution_count": 74,
   "metadata": {},
   "outputs": [
    {
     "data": {
      "text/plain": [
       "(array([1.000e+00, 0.000e+00, 0.000e+00, 2.000e+00, 1.000e+00, 5.000e+00,\n",
       "        4.000e+00, 2.000e+00, 7.000e+00, 8.000e+00, 8.000e+00, 1.800e+01,\n",
       "        2.700e+01, 3.500e+01, 4.000e+01, 5.700e+01, 5.700e+01, 7.300e+01,\n",
       "        1.000e+02, 1.050e+02, 1.450e+02, 1.840e+02, 2.480e+02, 3.030e+02,\n",
       "        3.380e+02, 3.980e+02, 4.450e+02, 5.500e+02, 6.540e+02, 7.490e+02,\n",
       "        8.420e+02, 1.001e+03, 1.146e+03, 1.341e+03, 1.431e+03, 1.632e+03,\n",
       "        1.749e+03, 1.937e+03, 2.166e+03, 2.239e+03, 2.519e+03, 2.575e+03,\n",
       "        2.906e+03, 2.880e+03, 3.060e+03, 3.225e+03, 3.190e+03, 3.358e+03,\n",
       "        3.429e+03, 3.421e+03, 3.426e+03, 3.337e+03, 3.268e+03, 3.199e+03,\n",
       "        3.191e+03, 2.945e+03, 2.832e+03, 2.727e+03, 2.585e+03, 2.447e+03,\n",
       "        2.193e+03, 2.106e+03, 1.886e+03, 1.691e+03, 1.625e+03, 1.398e+03,\n",
       "        1.225e+03, 1.093e+03, 9.820e+02, 8.480e+02, 7.080e+02, 6.490e+02,\n",
       "        5.150e+02, 4.480e+02, 4.120e+02, 3.140e+02, 2.740e+02, 2.230e+02,\n",
       "        1.830e+02, 1.530e+02, 1.040e+02, 1.010e+02, 6.900e+01, 5.400e+01,\n",
       "        4.500e+01, 2.600e+01, 2.700e+01, 1.600e+01, 2.600e+01, 7.000e+00,\n",
       "        8.000e+00, 6.000e+00, 4.000e+00, 2.000e+00, 3.000e+00, 4.000e+00,\n",
       "        0.000e+00, 2.000e+00, 1.000e+00, 1.000e+00]),\n",
       " array([0.497887  , 0.49792942, 0.49797184, 0.49801426, 0.49805668,\n",
       "        0.4980991 , 0.49814152, 0.49818394, 0.49822636, 0.49826878,\n",
       "        0.4983112 , 0.49835362, 0.49839604, 0.49843846, 0.49848088,\n",
       "        0.4985233 , 0.49856572, 0.49860814, 0.49865056, 0.49869298,\n",
       "        0.4987354 , 0.49877782, 0.49882024, 0.49886266, 0.49890508,\n",
       "        0.4989475 , 0.49898992, 0.49903234, 0.49907476, 0.49911718,\n",
       "        0.4991596 , 0.49920202, 0.49924444, 0.49928686, 0.49932928,\n",
       "        0.4993717 , 0.49941412, 0.49945654, 0.49949896, 0.49954138,\n",
       "        0.4995838 , 0.49962622, 0.49966864, 0.49971106, 0.49975348,\n",
       "        0.4997959 , 0.49983832, 0.49988074, 0.49992316, 0.49996558,\n",
       "        0.500008  , 0.50005042, 0.50009284, 0.50013526, 0.50017768,\n",
       "        0.5002201 , 0.50026252, 0.50030494, 0.50034736, 0.50038978,\n",
       "        0.5004322 , 0.50047462, 0.50051704, 0.50055946, 0.50060188,\n",
       "        0.5006443 , 0.50068672, 0.50072914, 0.50077156, 0.50081398,\n",
       "        0.5008564 , 0.50089882, 0.50094124, 0.50098366, 0.50102608,\n",
       "        0.5010685 , 0.50111092, 0.50115334, 0.50119576, 0.50123818,\n",
       "        0.5012806 , 0.50132302, 0.50136544, 0.50140786, 0.50145028,\n",
       "        0.5014927 , 0.50153512, 0.50157754, 0.50161996, 0.50166238,\n",
       "        0.5017048 , 0.50174722, 0.50178964, 0.50183206, 0.50187448,\n",
       "        0.5019169 , 0.50195932, 0.50200174, 0.50204416, 0.50208658,\n",
       "        0.502129  ]),\n",
       " <a list of 100 Patch objects>)"
      ]
     },
     "execution_count": 74,
     "metadata": {},
     "output_type": "execute_result"
    },
    {
     "data": {
      "image/png": "[encoded data removed]",
      "text/plain": [
       "<Figure size 432x288 with 1 Axes>"
      ]
     },
     "metadata": {
      "needs_background": "light"
     },
     "output_type": "display_data"
    }
   ],
   "source": [
    "plt.hist(valores,bins=100,density=0)"
   ]
  },
  {
   "cell_type": "code",
   "execution_count": null,
   "metadata": {},
   "outputs": [],
   "source": []
  }
 ],
 "metadata": {
  "kernelspec": {
   "display_name": "Python 3",
   "language": "python",
   "name": "python3"
  },
  "language_info": {
   "codemirror_mode": {
    "name": "ipython",
    "version": 3
   },
   "file_extension": ".py",
   "mimetype": "text/x-python",
   "name": "python",
   "nbconvert_exporter": "python",
   "pygments_lexer": "ipython3",
   "version": "3.6.9"
  }
 },
 "nbformat": 4,
 "nbformat_minor": 2
}
